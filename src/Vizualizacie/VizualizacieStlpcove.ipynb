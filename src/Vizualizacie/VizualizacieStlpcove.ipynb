{
 "cells": [
  {
   "cell_type": "code",
   "execution_count": 8,
   "metadata": {},
   "outputs": [],
   "source": [
    "from __future__ import division\n",
    "from matplotlib import pyplot as plt\n",
    "\n",
    "import os\n",
    "import sys\n",
    "\n",
    "\n",
    "import random\n",
    "import math\n",
    "import numpy as np\n",
    "import pandas as pd\n",
    "import matplotlib.pyplot as plt\n",
    "import matplotlib.ticker as ticker\n",
    "import seaborn as sns\n",
    "from sklearn import preprocessing\n",
    "from matplotlib.pyplot import figure"
   ]
  },
  {
   "cell_type": "code",
   "execution_count": 9,
   "metadata": {},
   "outputs": [
    {
     "name": "stdout",
     "output_type": "stream",
     "text": [
      "hotovo\n"
     ]
    }
   ],
   "source": [
    "domy=[]\n",
    "domy.append(26)\n",
    "domy.append(93)\n",
    "domy.append(114)\n",
    "domy.append(744)\n",
    "domy.append(370)\n",
    "domy.append(661)\n",
    "domy.append(624)\n",
    "domy.append(890)\n",
    "domy.append(1169)\n",
    "domy.append(1629)\n",
    "\n",
    "\n",
    "IS = 0\n",
    "ES = 0\n",
    "LS = 0\n",
    "DODS = 0\n",
    "DS = 0\n",
    "\n",
    "IBA = 0\n",
    "EBA = 0\n",
    "LBA = 0\n",
    "DODBA = 0\n",
    "DBA = 0\n",
    "\n",
    "IFA = 0\n",
    "EFA = 0\n",
    "LFA = 0\n",
    "DODFA = 0\n",
    "DFA = 0\n",
    "\n",
    "IPSO = 0\n",
    "EPSO = 0\n",
    "LPSO = 0\n",
    "DODPSO = 0\n",
    "DPSO = 0\n",
    "\n",
    "IH = 0\n",
    "EH = 0\n",
    "LH = 0\n",
    "DODH = 0\n",
    "DH = 0\n",
    "\n",
    "totalDemand=0\n",
    "totalPrice=0\n",
    "totalImport=0\n",
    "totalExport=0\n",
    "gi=0\n",
    "ge=0\n",
    "totalPVU = 0\n",
    "\n",
    "for n in domy:\n",
    "    dataBA = pd.read_csv(\"vysledky/rokBAMaxBatLifeData\"+str(n)+\".csv\", index_col=0, sep=\";\")\n",
    "    dataBA.loc[dataBA['loadProd'] < 0, 'loadProd'] = 0\n",
    "    iBA = pd.DataFrame(dataBA[['totalImport']])\n",
    "    iBA = iBA['totalImport']\n",
    "    eBA = pd.DataFrame(dataBA[['totalExport']])\n",
    "    eBA = eBA['totalExport']\n",
    "    lBA = pd.DataFrame(dataBA[['batLifeLoss']])\n",
    "    lBA = lBA['batLifeLoss']\n",
    "    dodBA = pd.DataFrame(dataBA[['sumDOD']])\n",
    "    dodBA = dodBA['sumDOD']\n",
    "    dBA = pd.DataFrame(dataBA[['discharges']])\n",
    "    dBA = dBA['discharges']\n",
    "    IBA += iBA[1]\n",
    "    EBA += eBA[1]\n",
    "    LBA += lBA[1]\n",
    "    DODBA += dodBA[1]\n",
    "    DBA = dBA[1]\n",
    "    \n",
    "    dataFA = pd.read_csv(\"vysledky/rokFAMaxBatLifeData\"+str(n)+\".csv\", index_col=0, sep=\";\")\n",
    "    dataFA.loc[dataFA['loadProd'] < 0, 'loadProd'] = 0\n",
    "    iFA = pd.DataFrame(dataFA[['totalImport']])\n",
    "    iFA = iFA['totalImport']\n",
    "    eFA = pd.DataFrame(dataFA[['totalExport']])\n",
    "    eFA = eFA['totalExport']\n",
    "    lFA = pd.DataFrame(dataFA[['batLifeLoss']])\n",
    "    lFA = lFA['batLifeLoss']\n",
    "    dodFA = pd.DataFrame(dataFA[['sumDOD']])\n",
    "    dodFA = dodFA['sumDOD']\n",
    "    dFA = pd.DataFrame(dataFA[['discharges']])\n",
    "    dFA = dFA['discharges']\n",
    "    IFA += iFA[1]\n",
    "    EFA += eFA[1]\n",
    "    LFA += lFA[1]\n",
    "    DODFA += dodFA[1]\n",
    "    DFA = dFA[1]\n",
    "    \n",
    "    dataH = pd.read_csv(\"vysledky/rokHEMaxBatLifeData\"+str(n)+\".csv\", index_col=0, sep=\";\")\n",
    "    dataH.loc[dataH['loadProd'] < 0, 'loadProd'] = 0\n",
    "    iH = pd.DataFrame(dataH[['totalImport']])\n",
    "    iH = iH['totalImport']\n",
    "    eH = pd.DataFrame(dataH[['totalExport']])\n",
    "    eH = eH['totalExport']\n",
    "    lH = pd.DataFrame(dataH[['batLifeLoss']])\n",
    "    lH = lH['batLifeLoss']\n",
    "    dodH = pd.DataFrame(dataH[['sumDOD']])\n",
    "    dodH = dodH['sumDOD']\n",
    "    dH = pd.DataFrame(dataH[['discharges']])\n",
    "    dH = dH['discharges']\n",
    "    IH += iH[1]\n",
    "    EH += eH[1]\n",
    "    LH+= lH[1]\n",
    "    DODH += dodH[1]\n",
    "    DH = dH[1]\n",
    "    \n",
    "    dataPSO = pd.read_csv(\"vysledky/rokPSOMaxBatLifeData\"+str(n)+\".csv\", index_col=0, sep=\";\")\n",
    "    dataPSO.loc[dataPSO['loadProd'] < 0, 'loadProd'] = 0\n",
    "    iPSO = pd.DataFrame(dataPSO[['totalImport']])\n",
    "    iPSO = iPSO['totalImport']\n",
    "    ePSO = pd.DataFrame(dataPSO[['totalExport']])\n",
    "    ePSO = ePSO['totalExport']\n",
    "    lPSO = pd.DataFrame(dataPSO[['batLifeLoss']])\n",
    "    lPSO = lPSO['batLifeLoss']\n",
    "    dodPSO = pd.DataFrame(dataPSO[['sumDOD']])\n",
    "    dodPSO = dodPSO['sumDOD']\n",
    "    dPSO = pd.DataFrame(dataPSO[['discharges']])\n",
    "    dPSO = dPSO['discharges']\n",
    "    IPSO += iPSO[1]\n",
    "    EPSO += ePSO[1]\n",
    "    LPSO += lPSO[1]\n",
    "    DODPSO += dodPSO[1]\n",
    "    DPSO = dPSO[1]\n",
    "    \n",
    "    dataS = pd.read_csv(\"../../data/load/dataid\"+str(n)+\".csv\", index_col=0, sep=\";\")\n",
    "    dataS.loc[dataS['loadProd'] < 0, 'loadProd'] = 0\n",
    "    #gen = pd.DataFrame(dataGen[['loadProd']])\n",
    "    con = pd.DataFrame(dataS[['loadCons']])\n",
    "    gri = pd.DataFrame(dataS[['loadGrid']])\n",
    "    #prices = pd.DataFrame(elprices[['prices']])\n",
    "    con = con['loadCons']\n",
    "    #gen = gen['loadProd']\n",
    "    gri = gri['loadGrid']\n",
    "\n",
    "    for i in range(1,8760+1):\n",
    "        #pvu=0\n",
    "        #if gen[i]>=con[i]:\n",
    "            #pvu=con[i]\n",
    "        #else:\n",
    "            #pvu=gen[i]\n",
    "        #totalPVU+=pvu\n",
    "        if gri[i]>0:\n",
    "            IS+=gri[i]\n",
    "        else:\n",
    "            ES+=(-gri[i])\n",
    "\n",
    "print(\"hotovo\")   \n",
    "\n",
    "\n"
   ]
  },
  {
   "cell_type": "code",
   "execution_count": 10,
   "metadata": {},
   "outputs": [
    {
     "name": "stdout",
     "output_type": "stream",
     "text": [
      "73223.9384273445 67223.64554673167 54371.51365826393 53036.49161827606 53415.97271243196\n",
      "33060.99266071447 34869.922838466395 21993.357250058383 20645.956964848396 21058.631304166673\n",
      "2419.8984310473343 10373.563884472427 9073.429797523431 13447.200000000019\n",
      "0.7912941653461787 0.4963415798863047 0.4257878567428027 0.563032515988058\n"
     ]
    }
   ],
   "source": [
    "print(IS, IPSO, IBA, IFA, IH)\n",
    "print(ES, EPSO, EBA, EFA, EH)\n",
    "print(LPSO, LBA, LFA, LH)\n",
    "print((DODPSO/(10*8760))/13, (DODBA/(10*8760))/13, (DODFA/(10*8760))/13, (DODH/(10*8760))/13)"
   ]
  },
  {
   "cell_type": "code",
   "execution_count": 13,
   "metadata": {},
   "outputs": [
    {
     "data": {
      "image/png": "[encoded data removed]",
      "text/plain": [
       "<Figure size 432x288 with 1 Axes>"
      ]
     },
     "metadata": {
      "needs_background": "light"
     },
     "output_type": "display_data"
    }
   ],
   "source": [
    "# data to plot\n",
    "n_groups = 5\n",
    "means_frank = (IS, IPSO, IBA, IFA, IH)\n",
    "means_guido = (ES, EPSO, EBA, EFA, EH)\n",
    "\n",
    "# create plot\n",
    "fig, ax = plt.subplots()\n",
    "index = np.arange(n_groups)\n",
    "bar_width = 0.35\n",
    "opacity = 0.8\n",
    "\n",
    "rects1 = plt.bar(index, means_frank, bar_width,\n",
    "alpha=opacity,\n",
    "color='b',\n",
    "label='Import')\n",
    "\n",
    "rects2 = plt.bar(index + bar_width, means_guido, bar_width,\n",
    "alpha=opacity,\n",
    "color='g',\n",
    "label='Export')\n",
    "\n",
    "plt.xlabel('Optimalizačný model')\n",
    "plt.ylabel('Energia (kWh)')\n",
    "plt.title('Výsledky importu a exportu energie')\n",
    "plt.xticks(index + bar_width, ('Súčasný stav', 'PSO', 'BA', 'FA', 'Heuristika'))\n",
    "plt.legend()\n",
    "\n",
    "plt.tight_layout()\n",
    "plt.show()"
   ]
  },
  {
   "cell_type": "code",
   "execution_count": 14,
   "metadata": {},
   "outputs": [
    {
     "data": {
      "image/png": "[encoded data removed]",
      "text/plain": [
       "<Figure size 432x288 with 1 Axes>"
      ]
     },
     "metadata": {
      "needs_background": "light"
     },
     "output_type": "display_data"
    }
   ],
   "source": [
    "# data to plot\n",
    "n_groups = 4\n",
    "means_frank = (0, 0, 0, 0)\n",
    "means_guido = (LPSO, LBA, LFA, LH)\n",
    "\n",
    "# create plot\n",
    "fig, ax = plt.subplots()\n",
    "index = np.arange(n_groups)\n",
    "bar_width = 0.35\n",
    "opacity = 0.8\n",
    "\n",
    "rects2 = plt.bar(index + bar_width, means_guido, bar_width,\n",
    "alpha=opacity,\n",
    "color='g',\n",
    "label='Strata životnosti batérie')\n",
    "\n",
    "plt.xlabel('Optimalizačný model')\n",
    "plt.ylabel('Strata životnosti batérie')\n",
    "plt.title('Výsledky predĺženia životnosti batérie')\n",
    "plt.xticks(index + bar_width, ('PSO', 'BA', 'FA', 'Heuristika'))\n",
    "plt.legend()\n",
    "\n",
    "plt.tight_layout()\n",
    "plt.show()"
   ]
  },
  {
   "cell_type": "code",
   "execution_count": null,
   "metadata": {},
   "outputs": [],
   "source": []
  }
 ],
 "metadata": {
  "kernelspec": {
   "display_name": "Python 3",
   "language": "python",
   "name": "python3"
  },
  "language_info": {
   "codemirror_mode": {
    "name": "ipython",
    "version": 3
   },
   "file_extension": ".py",
   "mimetype": "text/x-python",
   "name": "python",
   "nbconvert_exporter": "python",
   "pygments_lexer": "ipython3",
   "version": "3.7.4"
  }
 },
 "nbformat": 4,
 "nbformat_minor": 4
}
